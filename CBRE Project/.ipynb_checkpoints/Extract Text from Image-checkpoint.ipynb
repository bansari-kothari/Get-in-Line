{
 "cells": [
  {
   "cell_type": "code",
   "execution_count": 1,
   "id": "0fa2372d-3ae9-465a-8bfe-4726eead92f8",
   "metadata": {},
   "outputs": [],
   "source": [
    "from PIL import Image\n",
    "from pytesseract import pytesseract\n",
    "import cv2\n",
    "import numpy as np\n",
    "\n",
    "#Define path to tessaract.exe\n",
    "path_to_tesseract = r'C:/Program Files/Tesseract-OCR/tesseract.exe'\n",
    "\n",
    "#Point tessaract_cmd to tessaract.exe\n",
    "pytesseract.tesseract_cmd = path_to_tesseract"
   ]
  },
  {
   "cell_type": "code",
   "execution_count": 2,
   "id": "d6ee31a7-1c9b-48d9-bee1-3bb2aac00305",
   "metadata": {},
   "outputs": [],
   "source": [
    "# get grayscale image\n",
    "def get_grayscale(image):\n",
    "    return cv2.cvtColor(image, cv2.COLOR_BGR2GRAY)"
   ]
  },
  {
   "cell_type": "code",
   "execution_count": 4,
   "id": "ae0d6f56-4563-4562-b4c3-0896ace0a205",
   "metadata": {},
   "outputs": [
    {
     "name": "stdout",
     "output_type": "stream",
     "text": [
      "[\"..I'M GETTING A RIDE. WITH KATIE To ADAM'S:\\nWEDDING. HOPING To SEE BRIAN ON THE WAY!\\nOH, THATS 0L!\\n.-L CANT KEEP LIVING THIS LIE, SOIM\\nJUST GONNA COME OUT AND ADMIT\\nIE I HAVE NO IDEA WHO ANY OF THE\\nPEOPLE. YOU KEEP MENTIONING ARE.\\n\", \"PEOPLE IN THE PARK KEEP\\nFLYING DRONES NEAR ME,\\nSO IVE BUILT A SYSTEM\\nTO SHOOT THEM DOWN.\\nCOOL! OH YEAH,\\nTHERE'S ONE NOW.\\n‘TIME FOR A TEST!\\nnol \\\\\\nav H [_ &¥ ?\\nSou ewnt 4\\n\", 'ARE YOU SURE THIS STUDY IS LEGIT?\\n‘SURE, IT SAYS IT VAS.\\nACCEPTED FOR PUBLICATION.\\nHMM... JHE NATIONAL\\nACADENTY OF PROCEEDINGS.\\n', 'DID YoU SEE THERES AN EMi0si MOVIE?\\nIF THEY HAVE TO MAKE A MOVIE.\\nABOUT A SECTION OF UNICODE,\\nITS NOT THE WORST CHOICE...\\n‘THEY SHOULD DO A WHOLE SERIES,\\nT WOULD WATCH THE COMBINING\\nDIACRITICAL MARKS MOVE.\\nTHAT SERIES WOULD HAVE\\n(WAY TOO MANY vin\\n', \"MIKE TROUT'S ON-BASE PLUS\\nSLUGGING HAS BEEN AT CAREER\\nHIGHS. AFTER THIS INJURY, THE\\nLAKERS WILL BE LUCKY IF HE\\nCAN HIT EVEN CLOSE 0 THAT\\n\\n/ «LAKERS?\\nFORGET WHICH TEAM\\nHE 1S. BRONCOS?\\n\", 'WHEN USE A WORD, IT MEANS\\nJUST LIMAT T CHOOSE. IT TO MEAN.\\nNEITHER MORE. NOR LESS.\\nT WONDER WHAT ALL THOSE\\nUORDS YOU JUST SAID MEANT.\\nMAYBE YOURE TELUNG MET.\\nCAN HAVE ALL YOUR STUFF!\\nUAAT!? No! \\\\\\n2 YOUR CAR, ToO?\\n() GOSH, THANKS!\\nly\\nNG\\na\\n> a\\nFd co\\noh -\\n', 'BUN ALERT!\\n\\n{  onvest cure!\\nGOTTA DOCUMENT THE.\\nTUL NOTIFY EVERYONE,\\nSEND OUT A PUSH ALERT.\\n\\n\\\\ TO WHO?\\nx x :\\ncay\\n', 'EVERYONE. SUBSCRIGED To THE ALERT SYSTEM.\\n| ALERT SYSTEM?\\nYEAH! WE BUILT ITOVER THE LAST FEW YEARS,\\nITS PRETTY SMALL. STILL LOOKING FOR INVESTORS.\\nBUT... WHY ARE YOU ALERTING\\nPEOPLE ABOUT RABBITS?\\n', 'HAVE YOU SEEN THIS COOL MAP* SHOWING HOW GOOGLE.\\nSEARCHES FOR “ECLIPSE” TRACE. THE ECUPSES PATH?\\nYEAH!\\nGUT YOU KNOU WHAT ELSE I NOTICED?\\nUHAT? P z,\\n* wapo.st/2vkg1Bv\\n', \"ARE PEOPLE REALLY EXCITED ENOUGH\\n\\nABOUT SCIENCE TO TRAVEL TO SEE. IT?\\nHONESTLY, (T'S NOT THAT SCIENTIFIC.\\nI MEAN, 'T'5 COOL IF YOURE INTO\\nASTRONOMY, BUT ITS ALSO COOL IF\\nYOURE, LIKE, AWARE OF THE SUN.\\n\", \"WHOA, THIS 1S RUNNING MS-DOS! IT'S\\n\\n(WEIRD HOW NEW TECHNOLOGY TAKES:\\n\\nFOREVER TO REACH SOME INDUSTRIES.\\nYEAH. LIKE HOL WE STILL USE\\nGUNPOWDER FOR FIREWORKS, EVEN\\nTHOUGH WE'VE HAD NUCLEAR,\\nWEAPONS FOR iv 70 YEARS.\\n\", 'T QUESTION THE ASSUMPTION\\nTHAT YOUD OTHERWISE BE\\n‘SPENDING YOUR TIME ON\\nSOMIETHNG MORE VALUABLE.\\nCOME ON, I COULD BE\\nFAUNG To OPTIMIZE SO\\nMANY BETTER THNGS!\\n', \"DAMMIT, WHY ARE THERE SO MANY\\nDIFFERENT SUBCULTURES OBSESSED\\nUIT STARING AT THE SKY?\\nWHAT ELSE COULD WE DISGUISE.\\nOUR SURVEILLANCE DRONES AS?\\nUentieR BaLLoons? — |\\nNO THAT GETS THE UFO PEOPLE:\\nAND THE WEATHER, PEDPLE..\\nDON'T KNOW WHOS Pt\\nOOS80@\\n1 eS ZX A> Zi\\nee\\n=\\nA =.\\n\", 'UTHOUT MORE DATA, IT\\nWOULD BE IRRESPONSIBLE\\nTo SPECULATE FURTHER\\n\\n(so.,ouRe Gone or\\n', 'T.CAN SETTLE THIS WITH AA CALCULATOR.\\nNO PY. IF IT WERE EASY FACTOR\\nLARGE NUMBERS LIKE THAT, MODERN\\nCRYPTOGRAPHY WOULD COLLAPSE.\\n\\nT SEE. |\\nLJUST HOPE WE MANAGE To\\nBRUTE-FORCE y) BY FEBRUARY.\\n', 'THERES A POT OF GOLD AT\\nTHE END OF THE RAINBOW.\\nRAINBOWS ARE\\nCIRCLES. THEY\\nHAVE No END.\\nNoT QUITE!\\n\\\\\\n', \"THE OTHER END IS THE SUN-WHICH\\n\\nCONTAINS QUINTILLIONS OF TONS OF\\n\\nGOLD. THERE'S MORE GOLD IN THE.\\n\\nSUN THAN WATER IN THE OCEANS.\\n50 THERE /S A POT OF GOLD!\\nWHAT ABOUT LEPRECHAUNS?\\n\\nALL INCINERATED AS THE\\n\\n‘SUN FORMED. VERY SAD.\\nNL\\n\", \"MORNING. HOW'S THE GAME?\\nEAGLES GOT To THE 26-YARD LINE AROUND\\nMIDNIGHT. THEY'VE. BEEN WALKING ACROSS THE\\nFIELD SINCE THEN. JUST ENTERED A HUDDLE.\\nI BET THE NEXT FRAME WILL BE A CUT\\nYOU ALWAYS SAY THAT.\\nDO YoU THINK THE FIRST ADS WILL.\\nCOME BY THE END OF FEBRUARY?\\n\", 'THIS IS DR. ADAMS. SHES A SOCIAL\\nPSYCHOLOGIST AND THE WORLDS ToP\\nEXPERT ON IMPOSTOR SYNDROME.\\nHAHA, DONT BE SILLY! THERE\\nARE LOTS OF SCHOLARS WHO\\nHAVE MADE. MORE ‘SIGNIFICANT...\\n0H ie\\n', \"TUES I'S JUST THAT MOST\\n\\nPEOPLE ARENT MURDERERS?\\n\\nOH, RIGHT. I ALWAYS FORGET.\\n\\n‘AN UNDERAPPRECIATED\\nCOMPONENT OF OUR\\n\\nSO EN OTE\\n\", 'HOW ARE YOU DOING?\\nREALLY EXCITED To BE\\nCONFIDENTLY HANDLING\\nTHIS EXTREMELY BASIC\\nSOCIAL =\\n']\n"
     ]
    }
   ],
   "source": [
    "extracted_text = []\n",
    "for i in range(1,22):\n",
    "    path_to_image = 'cartoon'+str(i)+'.png'\n",
    "    #img = Image.open(path_to_image)\n",
    "    #text = pytesseract.image_to_string(img, config=r'--oem 3 --psm 6')\n",
    "    image = cv2.imread(path_to_image)\n",
    "    gray = get_grayscale(image)\n",
    "    text = pytesseract.image_to_string(gray, config=r'--oem 3 --psm 6')\n",
    "    extracted_text.append(text)\n",
    "print(extracted_text)"
   ]
  }
 ],
 "metadata": {
  "kernelspec": {
   "display_name": "Python 3 (ipykernel)",
   "language": "python",
   "name": "python3"
  },
  "language_info": {
   "codemirror_mode": {
    "name": "ipython",
    "version": 3
   },
   "file_extension": ".py",
   "mimetype": "text/x-python",
   "name": "python",
   "nbconvert_exporter": "python",
   "pygments_lexer": "ipython3",
   "version": "3.9.12"
  }
 },
 "nbformat": 4,
 "nbformat_minor": 5
}
